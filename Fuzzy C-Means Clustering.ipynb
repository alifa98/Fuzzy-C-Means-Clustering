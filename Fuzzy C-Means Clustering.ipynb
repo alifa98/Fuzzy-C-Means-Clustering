{
 "cells": [
  {
   "cell_type": "markdown",
   "metadata": {},
   "source": [
    "# Fuzzy C-Means Clustering"
   ]
  },
  {
   "cell_type": "code",
   "execution_count": 6,
   "metadata": {},
   "outputs": [],
   "source": [
    "# Library imports\n",
    "import numpy as np\n",
    "import pandas as pd\n",
    "import math"
   ]
  },
  {
   "cell_type": "code",
   "execution_count": 18,
   "metadata": {},
   "outputs": [],
   "source": [
    "# Data imports\n",
    "data1 = pd.read_csv(\"data/data1.csv\", header=None)\n",
    "data2 = pd.read_csv(\"data/data2.csv\", header=None)\n",
    "data3 = pd.read_csv(\"data/data3.csv\", header=None)\n",
    "data4 = pd.read_csv(\"data/data4.csv\", header=None)"
   ]
  },
  {
   "cell_type": "code",
   "execution_count": 8,
   "metadata": {},
   "outputs": [],
   "source": [
    "## Definition of constants\n",
    "CONST_M = 1.4\n",
    "CONST_CLUSTERING_ITERATION_NUMBER = 100"
   ]
  },
  {
   "cell_type": "code",
   "execution_count": 77,
   "metadata": {},
   "outputs": [],
   "source": [
    "## Definition of general fuctions\n",
    "\n",
    "def distance(point1, point2, to_power2=False):\n",
    "    assert len(point1) == len(point2), \"Points dimentions are different.\"\n",
    "    \n",
    "    dist = 0;\n",
    "    for i in range(len(point1)):\n",
    "        dist = dist + (point1[i] - point2[i])**2\n",
    "        \n",
    "    return dist if to_power2 else math.sqrt(dist)\n",
    "\n",
    "\n",
    "def choose_random(data, number_of_samples):\n",
    "    sample_dataframe = data.sample(n = number_of_samples)\n",
    "    return sample_dataframe.iloc[:,:-1] # cut the last column\n",
    "    \n",
    "def update_cluster_values(data, centroids):\n",
    "    for data_index, data_row in data.iterrows():\n",
    "        point = tuple(data_row[:-1]) # cut the last column and convert to tuple\n",
    "                \n",
    "        distance_sum_inverse = 0\n",
    "        for center_tuple in centroids:\n",
    "            distance_sum_inverse = distance_sum_inverse + (1 / (distance(point,center_tuple,to_power2=True))**(1/(CONST_M-1)) )\n",
    "            \n",
    "        belonging_value_to_clusters = []\n",
    "        for center in centroids:\n",
    "            numerator = 1 / (distance(point,center,to_power2=True))**(1/(CONST_M-1))    \n",
    "            belonging_value_to_clusters.append(numerator/distance_sum_inverse)\n",
    "      \n",
    "        data.at[data_index,'fuzzy_cluster'] = belonging_value_to_clusters\n",
    "        \n",
    "    \n",
    "def update_centers(data, centroids):\n",
    "    pass"
   ]
  },
  {
   "cell_type": "code",
   "execution_count": 78,
   "metadata": {},
   "outputs": [
    {
     "name": "stdout",
     "output_type": "stream",
     "text": [
      "              0           1                              fuzzy_cluster\n",
      "0    232.061376  359.002631  [0.9404177479242578, 0.05958225207574213]\n",
      "1    174.883332  310.063063                                         []\n",
      "2    229.630561  295.897638                                         []\n",
      "3    186.194687  288.962504                                         []\n",
      "4    198.785931  286.676203                                         []\n",
      "..          ...         ...                                        ...\n",
      "490  574.853762  167.548293                                         []\n",
      "491  568.949373  170.252091                                         []\n",
      "492  581.590653  141.458266                                         []\n",
      "493  518.868724  153.304693                                         []\n",
      "494  558.484666  141.331815                                         []\n",
      "\n",
      "[495 rows x 3 columns]\n"
     ]
    }
   ],
   "source": [
    "def fuzzy_C_means(input_data, clusters_number):\n",
    "    \n",
    "    centroids = [ tuple(d[1]) for d in choose_random(input_data, clusters_number).iterrows()]\n",
    "    input_data['fuzzy_cluster'] = [[]] * len(input_data)\n",
    "        \n",
    "    for iteration in range(CONST_CLUSTERING_ITERATION_NUMBER):\n",
    "        update_cluster_values(input_data, centroids)\n",
    "        update_centers(input_data, centroids)\n",
    "        \n",
    "    print(input_data)\n",
    "        \n",
    "        \n",
    "fuzzy_C_means(data1, 2)"
   ]
  },
  {
   "cell_type": "code",
   "execution_count": null,
   "metadata": {},
   "outputs": [],
   "source": []
  },
  {
   "cell_type": "code",
   "execution_count": null,
   "metadata": {},
   "outputs": [],
   "source": []
  }
 ],
 "metadata": {
  "kernelspec": {
   "display_name": "Python 3",
   "language": "python",
   "name": "python3"
  },
  "language_info": {
   "codemirror_mode": {
    "name": "ipython",
    "version": 3
   },
   "file_extension": ".py",
   "mimetype": "text/x-python",
   "name": "python",
   "nbconvert_exporter": "python",
   "pygments_lexer": "ipython3",
   "version": "3.8.5"
  }
 },
 "nbformat": 4,
 "nbformat_minor": 4
}
