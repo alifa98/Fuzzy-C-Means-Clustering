{
 "cells": [
  {
   "cell_type": "markdown",
   "metadata": {},
   "source": [
    "# Fuzzy C-Means Clustering"
   ]
  },
  {
   "cell_type": "code",
   "execution_count": 4,
   "metadata": {},
   "outputs": [],
   "source": [
    "# Library imports\n",
    "import numpy as np\n",
    "import pandas as pd\n",
    "import math"
   ]
  },
  {
   "cell_type": "code",
   "execution_count": 26,
   "metadata": {},
   "outputs": [],
   "source": [
    "# Data imports\n",
    "data1 = pd.read_csv(\"data/data1.csv\")\n",
    "data2 = pd.read_csv(\"data/data2.csv\")\n",
    "data3 = pd.read_csv(\"data/data3.csv\")\n",
    "data4 = pd.read_csv(\"data/data4.csv\")"
   ]
  },
  {
   "cell_type": "code",
   "execution_count": 29,
   "metadata": {},
   "outputs": [],
   "source": [
    "## Definition of constants\n",
    "CONST_M = 1.4\n"
   ]
  },
  {
   "cell_type": "code",
   "execution_count": 22,
   "metadata": {},
   "outputs": [],
   "source": [
    "## Definition of general fuctions\n",
    "\n",
    "def distance(point1, point2, to_power2=False):\n",
    "    assert len(point1) == len(point2), \"Points dimentions are different.\"\n",
    "    \n",
    "    dist = 0;\n",
    "    for i in range(len(point1)):\n",
    "        dist = dist + (point1[i] - point2[i])**2\n",
    "        \n",
    "    return dist if to_power2 else math.sqrt(dist)\n",
    "\n"
   ]
  },
  {
   "cell_type": "markdown",
   "metadata": {},
   "source": [
    "# First Step\n",
    "\n",
    "We"
   ]
  },
  {
   "cell_type": "code",
   "execution_count": null,
   "metadata": {},
   "outputs": [],
   "source": []
  }
 ],
 "metadata": {
  "kernelspec": {
   "display_name": "Python 3",
   "language": "python",
   "name": "python3"
  },
  "language_info": {
   "codemirror_mode": {
    "name": "ipython",
    "version": 3
   },
   "file_extension": ".py",
   "mimetype": "text/x-python",
   "name": "python",
   "nbconvert_exporter": "python",
   "pygments_lexer": "ipython3",
   "version": "3.8.5"
  }
 },
 "nbformat": 4,
 "nbformat_minor": 4
}
