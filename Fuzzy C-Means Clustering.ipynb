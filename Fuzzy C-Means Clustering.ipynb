{
 "cells": [
  {
   "cell_type": "markdown",
   "metadata": {},
   "source": [
    "# Fuzzy C-Means Clustering"
   ]
  },
  {
   "cell_type": "code",
   "execution_count": 103,
   "metadata": {},
   "outputs": [],
   "source": [
    "# Library imports\n",
    "import numpy as np\n",
    "import pandas as pd\n",
    "import math\n",
    "from functools import reduce"
   ]
  },
  {
   "cell_type": "code",
   "execution_count": 18,
   "metadata": {},
   "outputs": [],
   "source": [
    "# Data imports\n",
    "data1 = pd.read_csv(\"data/data1.csv\", header=None)\n",
    "data2 = pd.read_csv(\"data/data2.csv\", header=None)\n",
    "data3 = pd.read_csv(\"data/data3.csv\", header=None)\n",
    "data4 = pd.read_csv(\"data/data4.csv\", header=None)"
   ]
  },
  {
   "cell_type": "code",
   "execution_count": 99,
   "metadata": {},
   "outputs": [],
   "source": [
    "## Definition of constants\n",
    "CONST_M = 1.4\n",
    "CONST_CLUSTERING_ITERATION_NUMBER = 10"
   ]
  },
  {
   "cell_type": "code",
   "execution_count": 109,
   "metadata": {},
   "outputs": [],
   "source": [
    "## Definition of general fuctions\n",
    "\n",
    "def distance(point1, point2, to_power2=False):\n",
    "    assert len(point1) == len(point2), \"Points dimentions are different.\"\n",
    "    \n",
    "    dist = 0;\n",
    "    for i in range(len(point1)):\n",
    "        dist = dist + (point1[i] - point2[i])**2\n",
    "        \n",
    "    return dist if to_power2 else math.sqrt(dist)\n",
    "\n",
    "\n",
    "def choose_random(data, number_of_samples):\n",
    "    sample_dataframe = data.sample(n = number_of_samples)\n",
    "    return sample_dataframe.iloc[:,:-1] # cut the last column\n",
    "\n",
    "def product_with_tuple(input_scalar, input_tuple):\n",
    "    return tuple([ val * input_scalar for val in input_tuple ])\n",
    "    \n",
    "def sum_of_tuples(tuple1, tuple2):\n",
    "    return tuple([ x + y for x, y in zip(tuple1,tuple2)])\n",
    "    \n",
    "    \n",
    "def update_cluster_values(data, centroids):\n",
    "    for data_index, data_row in data.iterrows():\n",
    "        point = tuple(data_row[:-1]) # cut the last column and convert to tuple\n",
    "                \n",
    "        distance_sum_inverse = 0\n",
    "        for center_tuple in centroids:\n",
    "            distance_sum_inverse = distance_sum_inverse + (1 / (distance(point,center_tuple,to_power2=True))**(1/(CONST_M-1)) )\n",
    "            \n",
    "        belonging_value_to_clusters = []\n",
    "        for center in centroids:\n",
    "            numerator = 1 / (distance(point,center,to_power2=True))**(1/(CONST_M-1))    \n",
    "            belonging_value_to_clusters.append(numerator/distance_sum_inverse)\n",
    "      \n",
    "        data.at[data_index,'fuzzy_cluster'] = belonging_value_to_clusters\n",
    "        \n",
    "    \n",
    "def calculate_and_get_new_centers(data, centroids):\n",
    "    new_centers = []\n",
    "    \n",
    "    for center_index, center in enumerate(centroids):\n",
    "        \n",
    "        belonging_values_sum = 0\n",
    "        for data_index, data_row in data.iterrows():\n",
    "            belonging_values_sum = belonging_values_sum + (data_row['fuzzy_cluster'][center_index])**CONST_M\n",
    "        \n",
    "        share_of_each_data_in_center = []\n",
    "        for data_index, data_row in data.iterrows():\n",
    "            point_share_in_center = (data_row['fuzzy_cluster'][center_index]**CONST_M) / belonging_values_sum\n",
    "            share_of_each_data_in_center.append(product_with_tuple(point_share_in_center, data_row[:-1]))\n",
    "            \n",
    "        cluster_center = reduce(lambda t1, t2: sum_of_tuples(t1, t2), share_of_each_data_in_center)\n",
    "        \n",
    "        new_centers.append(cluster_center)\n",
    "        \n",
    "    return new_centers\n",
    "        \n",
    "def get_cost(data, centroids):\n",
    "    cost = 0\n",
    "    for data_index, data_row in data.iterrows():\n",
    "        for center_index, center in enumerate(centroids):\n",
    "            cost = cost + ((data_row['fuzzy_cluster'][center_index]**CONST_M) * distance(data_row[:-1],center,to_power2=True))\n",
    "    return cost\n"
   ]
  },
  {
   "cell_type": "code",
   "execution_count": 110,
   "metadata": {},
   "outputs": [
    {
     "name": "stdout",
     "output_type": "stream",
     "text": [
      "[(207.1838192132928, 235.1024549737849), (457.36715906671986, 363.0208639548901), (480.33103368177, 115.60007771522862)]\n",
      "              0           1                                      fuzzy_cluster\n",
      "0    232.061376  359.002631  [0.9422358553890704, 0.05181475061331284, 0.00...\n",
      "1    174.883332  310.063063  [0.9975885225712041, 0.0018326894759332574, 0....\n",
      "2    229.630561  295.897638  [0.9980918324747375, 0.0015037036984425964, 0....\n",
      "3    186.194687  288.962504  [0.999495951407451, 0.00036550869525729624, 0....\n",
      "4    198.785931  286.676203  [0.9996283450450494, 0.0002717356675042768, 9....\n",
      "..          ...         ...                                                ...\n",
      "490  574.853762  167.548293  [0.0019930386014336116, 0.02393293919269849, 0...\n",
      "491  568.949373  170.252091  [0.0018244537177110577, 0.02265906212606718, 0...\n",
      "492  581.590653  141.458266  [0.001462666432135216, 0.012001817127226002, 0...\n",
      "493  518.868724  153.304693  [0.00013831663865015775, 0.0009783594925629972...\n",
      "494  558.484666  141.331815  [0.0006053885497370426, 0.00454142246369913, 0...\n",
      "\n",
      "[492 rows x 3 columns]\n",
      "[(0.29924634292347196, 0.2993651672198981, 0.29888843883719357, 0.29917038537204943), (0.7416416840080833, 0.7375833055322826, 0.738384794992474, 0.7385616426289748)]\n",
      "             0         1         2         3  \\\n",
      "0     0.432610  0.382513  0.417406  0.381025   \n",
      "1     0.804723  0.846790  0.827204  0.841531   \n",
      "2     0.399435  0.445441  0.377028  0.407129   \n",
      "3     0.586848  0.605577  0.664818  0.654835   \n",
      "4     0.745649  0.727290  0.773916  0.754974   \n",
      "...        ...       ...       ...       ...   \n",
      "1207  0.105985  0.183894  0.190385  0.137578   \n",
      "1208  0.660885  0.599424  0.678428  0.630584   \n",
      "1209  0.023225  0.045101  0.101654  0.044252   \n",
      "1210  0.187667  0.130879  0.143621  0.177495   \n",
      "1211  0.743291  0.719453  0.771260  0.771595   \n",
      "\n",
      "                                     fuzzy_cluster  \n",
      "0      [0.9968124338305917, 0.0031875661694083153]  \n",
      "1     [0.00016218675908967722, 0.9998378132409104]  \n",
      "2       [0.9959165919117832, 0.004083408088216732]  \n",
      "3      [0.0052956726591149575, 0.9947043273408851]  \n",
      "4     [1.8503526949903384e-07, 0.9999998149647304]  \n",
      "...                                            ...  \n",
      "1207   [0.9989425421554763, 0.0010574578445236029]  \n",
      "1208   [0.0021693685319067206, 0.9978306314680933]  \n",
      "1209    [0.9939488137763774, 0.006051186223622593]  \n",
      "1210    [0.999142269906415, 0.0008577300935850082]  \n",
      "1211    [5.15057337327103e-07, 0.9999994849426627]  \n",
      "\n",
      "[1210 rows x 5 columns]\n"
     ]
    }
   ],
   "source": [
    "def fuzzy_C_means(input_data, clusters_number):\n",
    "        \n",
    "    input_data['fuzzy_cluster'] = [[]] * len(input_data)\n",
    "    random_sample_dataframe = choose_random(input_data, clusters_number)\n",
    "    centroids = [ tuple(d[1]) for d in random_sample_dataframe.iterrows()]\n",
    "    input_data = input_data.drop(random_sample_dataframe.index) # delete selected rows because of adding additioanl comlplexity to clculation in fuctions (0 distance to itself)\n",
    "        \n",
    "    for iteration in range(CONST_CLUSTERING_ITERATION_NUMBER):\n",
    "        update_cluster_values(input_data, centroids)\n",
    "        centroids = calculate_and_get_new_centers(input_data, centroids)\n",
    "        \n",
    "    print(centroids)\n",
    "    print(input_data)\n",
    "\n",
    "    \n",
    "fuzzy_C_means(data1, 3)\n",
    "fuzzy_C_means(data2, 2)"
   ]
  },
  {
   "cell_type": "code",
   "execution_count": null,
   "metadata": {},
   "outputs": [],
   "source": []
  },
  {
   "cell_type": "code",
   "execution_count": null,
   "metadata": {},
   "outputs": [],
   "source": []
  }
 ],
 "metadata": {
  "kernelspec": {
   "display_name": "Python 3",
   "language": "python",
   "name": "python3"
  },
  "language_info": {
   "codemirror_mode": {
    "name": "ipython",
    "version": 3
   },
   "file_extension": ".py",
   "mimetype": "text/x-python",
   "name": "python",
   "nbconvert_exporter": "python",
   "pygments_lexer": "ipython3",
   "version": "3.8.5"
  }
 },
 "nbformat": 4,
 "nbformat_minor": 4
}
